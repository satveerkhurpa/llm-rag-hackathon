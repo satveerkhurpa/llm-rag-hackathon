{
 "cells": [
  {
   "cell_type": "markdown",
   "id": "0cdc7c32",
   "metadata": {},
   "source": [
    "# Semantic Search using pgvector and Amazon Aurora PostgreSQL"
   ]
  },
  {
   "cell_type": "markdown",
   "id": "0ba017e6",
   "metadata": {},
   "source": [
    "## Setup\n",
    "Install required python libraries for the setup."
   ]
  },
  {
   "cell_type": "code",
   "execution_count": null,
   "id": "065d33dd-bb19-43a4-beac-1f506e7f708d",
   "metadata": {
    "tags": []
   },
   "outputs": [],
   "source": [
    "#Download the Bedrock dependencies.\n",
    "!bash ./download-dependencies.sh"
   ]
  },
  {
   "cell_type": "code",
   "execution_count": null,
   "id": "5dadcc55-a4ee-4f3e-9c85-f2666771f13e",
   "metadata": {
    "tags": []
   },
   "outputs": [],
   "source": [
    "%pip install --no-build-isolation --force-reinstall \\\n",
    "    ./bedrock-python-sdk/awscli-*-py3-none-any.whl \\\n",
    "    ./bedrock-python-sdk/boto3-*-py3-none-any.whl \\\n",
    "   ./bedrock-python-sdk/botocore-*-py3-none-any.whl\n",
    "%pip install --quiet langchain==0.0.249 \"pypdf>=3.8,<4\""
   ]
  },
  {
   "cell_type": "code",
   "execution_count": null,
   "id": "71203a32-54f8-4336-8714-2b9555b22eb5",
   "metadata": {
    "tags": []
   },
   "outputs": [],
   "source": [
    "!pip install -r requirements.txt"
   ]
  },
  {
   "cell_type": "code",
   "execution_count": null,
   "id": "0864ccc2-6726-404b-9217-57928506565c",
   "metadata": {
    "tags": []
   },
   "outputs": [],
   "source": [
    "BEDROCK_ENDPOINT_URL = \"https://prod.us-west-2.frontend.bedrock.aws.dev\"\n",
    "embeddings_model_endpoint_name='amazon.titan-embed-g1-text-02'\n",
    "BEDROCK_REGION = \"us-west-2\"\n",
    "SOURCE_BUCKET = \"llmwhitepapers09152023\"\n",
    "input_data_dir=\"data\"\n",
    "CHUNK_SIZE_FOR_DOC_SPLIT = 600\n",
    "CHUNK_OVERLAP_FOR_DOC_SPLIT = 0"
   ]
  },
  {
   "cell_type": "markdown",
   "id": "61fdcea5",
   "metadata": {},
   "source": [
    "## Open-source extension pgvector for PostgreSQL\n",
    "\n",
    "[pgvector](https://github.com/pgvector/pgvector) is an open-source extension for PostgreSQL that allows you to store and search vector embeddings for exact and approximate nearest neighbors. It is designed to work seamlessly with other PostgreSQL features, including indexing and querying.\n",
    "\n",
    "PGVector integration with LangChain needs the connection string to the database. "
   ]
  },
  {
   "cell_type": "code",
   "execution_count": null,
   "id": "24ac09cf-de75-49fa-93f4-61f4e7e1c59f",
   "metadata": {
    "tags": []
   },
   "outputs": [],
   "source": [
    "import psycopg2\n",
    "from pgvector.psycopg2 import register_vector\n",
    "import boto3 \n",
    "import json \n",
    "\n",
    "client = boto3.client('secretsmanager')\n",
    "\n",
    "response = client.get_secret_value(\n",
    "    SecretId='apgpg-pgvector-secret'\n",
    ")\n",
    "database_secrets = json.loads(response['SecretString'])\n",
    "\n",
    "dbhost = database_secrets['host']\n",
    "dbport = database_secrets['port']\n",
    "dbuser = database_secrets['username']\n",
    "dbpass = database_secrets['password']\n",
    "\n",
    "\n",
    "dbconn = psycopg2.connect(host=dbhost, user=dbuser, password=dbpass, port=dbport, connect_timeout=10)\n",
    "dbconn.set_session(autocommit=True)\n",
    "\n",
    "cur = dbconn.cursor()\n",
    "cur.execute(\"CREATE EXTENSION IF NOT EXISTS vector;\")\n",
    "register_vector(dbconn)\n",
    "cur.close()\n",
    "dbconn.close()\n",
    "print (\"Extension created.\")\n",
    "     "
   ]
  },
  {
   "cell_type": "code",
   "execution_count": null,
   "id": "9edae915-080a-4d21-a27f-d7617c3cac0c",
   "metadata": {},
   "outputs": [],
   "source": [
    "#from PyPDF2 import PdfReader\n",
    "from langchain.vectorstores.pgvector import PGVector, DistanceStrategy\n",
    "from langchain.text_splitter import RecursiveCharacterTextSplitter\n",
    "from langchain.embeddings import BedrockEmbeddings\n",
    "from langchain.llms.bedrock import Bedrock\n",
    "from langchain.document_loaders import PyPDFLoader, PyPDFDirectoryLoader\n",
    "from typing import List, Tuple\n",
    "#from langchain.document_loaders import S3DirectoryLoader\n",
    "\n",
    "\n",
    "def get_vectorstore(docs):\n",
    "    embeddings = BedrockEmbeddings(client=boto3_bedrock,model_id=embeddings_model_endpoint_name)\n",
    "    if docs is None:\n",
    "        return PGVector(\n",
    "            connection_string=connection_string,\n",
    "            embedding_function=embeddings,\n",
    "        )\n",
    "    return PGVector.from_documents(documents=docs, embedding=embeddings, collection_name=collection_name, connection_string=connection_string)\n",
    "\n",
    "\n",
    "#Bedrock embeddings\n",
    "boto3_bedrock = boto3.client(\n",
    "     service_name='bedrock',\n",
    "     region_name=BEDROCK_REGION,\n",
    "     endpoint_url=BEDROCK_ENDPOINT_URL\n",
    ")\n",
    "\n",
    "embeddings = BedrockEmbeddings(client=boto3_bedrock,model_id=embeddings_model_endpoint_name)\n",
    "collection_name = \"llm_docs\"\n",
    "connection_string = PGVector.connection_string_from_db_params(                                                  \n",
    "    driver = \"psycopg2\",\n",
    "    user = dbuser,                                  \n",
    "    password = dbpass,                                  \n",
    "    host = dbhost,                                          \n",
    "    port = dbport,                                     \n",
    "    database = \"postgres\",                             \n",
    ")\n",
    "\n",
    "text_splitter = RecursiveCharacterTextSplitter(\n",
    "    separators=[\"\\n\\n\", \"\\n\", \".\", \" \"],\n",
    "    chunk_size=CHUNK_SIZE_FOR_DOC_SPLIT,\n",
    "    chunk_overlap=CHUNK_OVERLAP_FOR_DOC_SPLIT,\n",
    "    length_function=len\n",
    ")\n",
    "loader = PyPDFDirectoryLoader(input_data_dir)\n",
    "docs = loader.load_and_split(text_splitter)\n",
    "\n",
    "# s3loader = S3DirectoryLoader(SOURCE_BUCKET)\n",
    "# s3documents = s3loader.load()\n",
    "\n",
    "vectorstore = get_vectorstore(docs)\n",
    "\n",
    "print('documents loaded ...')"
   ]
  },
  {
   "cell_type": "markdown",
   "id": "7cd249cf",
   "metadata": {},
   "source": [
    "## Similarity search with score\n",
    "\n",
    "Run a similarity search using the [similarity_search_with_score](https://python.langchain.com/docs/modules/data_connection/vectorstores/integrations/pgvector) function from pgvector."
   ]
  },
  {
   "cell_type": "code",
   "execution_count": null,
   "id": "066eecb8",
   "metadata": {},
   "outputs": [],
   "source": [
    "query = \"What security measures does SageMaker have?\"\n",
    "docs_with_score = vectorstore.similarity_search_with_score(query)"
   ]
  },
  {
   "cell_type": "code",
   "execution_count": null,
   "id": "adbed320",
   "metadata": {},
   "outputs": [],
   "source": [
    "for doc, score in docs_with_score:\n",
    "    print(\"-\" * 80)\n",
    "    print(\"Score: \", score)\n",
    "    print(doc.page_content)\n",
    "    print(doc.metadata)\n",
    "    print(\"-\" * 80)"
   ]
  },
  {
   "cell_type": "markdown",
   "id": "c8f27de1",
   "metadata": {},
   "source": [
    "## Calculate cosine similarity\n",
    "\n",
    "Use the Cosine function to refine the results to the best possible match."
   ]
  },
  {
   "cell_type": "code",
   "execution_count": null,
   "id": "d30b97dc",
   "metadata": {},
   "outputs": [],
   "source": [
    "store = PGVector(\n",
    "    connection_string=connection_string, \n",
    "    embedding_function=embeddings, \n",
    "    collection_name=\"llm_docs\",\n",
    "    distance_strategy=DistanceStrategy.COSINE\n",
    ")\n",
    "\n",
    "retriever = store.as_retriever(search_kwargs={\"k\": 1})"
   ]
  },
  {
   "cell_type": "code",
   "execution_count": null,
   "id": "f3d6ded6",
   "metadata": {},
   "outputs": [],
   "source": [
    "retriever.get_relevant_documents(query='What ML governance tools does SageMaker provide?')"
   ]
  }
 ],
 "metadata": {
  "kernelspec": {
   "display_name": "conda_pytorch_p310",
   "language": "python",
   "name": "conda_pytorch_p310"
  },
  "language_info": {
   "codemirror_mode": {
    "name": "ipython",
    "version": 3
   },
   "file_extension": ".py",
   "mimetype": "text/x-python",
   "name": "python",
   "nbconvert_exporter": "python",
   "pygments_lexer": "ipython3",
   "version": "3.10.12"
  }
 },
 "nbformat": 4,
 "nbformat_minor": 5
}
